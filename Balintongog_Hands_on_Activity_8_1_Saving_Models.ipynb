{
  "nbformat": 4,
  "nbformat_minor": 0,
  "metadata": {
    "colab": {
      "provenance": [],
      "authorship_tag": "ABX9TyMjaNR2t/CYkn2ijWjn33Vn",
      "include_colab_link": true
    },
    "kernelspec": {
      "name": "python3",
      "display_name": "Python 3"
    },
    "language_info": {
      "name": "python"
    }
  },
  "cells": [
    {
      "cell_type": "markdown",
      "metadata": {
        "id": "view-in-github",
        "colab_type": "text"
      },
      "source": [
        "<a href=\"https://colab.research.google.com/github/vincent0104/CPE-019-CPE32S1/blob/main/Balintongog_Hands_on_Activity_8_1_Saving_Models.ipynb\" target=\"_parent\"><img src=\"https://colab.research.google.com/assets/colab-badge.svg\" alt=\"Open In Colab\"/></a>"
      ]
    },
    {
      "cell_type": "code",
      "execution_count": 17,
      "metadata": {
        "colab": {
          "base_uri": "https://localhost:8080/"
        },
        "id": "7dakEocAfpze",
        "outputId": "ed2ac277-b132-4e28-d2b0-c095b5a6f8c4"
      },
      "outputs": [
        {
          "output_type": "stream",
          "name": "stdout",
          "text": [
            "Drive already mounted at /content/drive; to attempt to forcibly remount, call drive.mount(\"/content/drive\", force_remount=True).\n"
          ]
        }
      ],
      "source": [
        "from google.colab import drive\n",
        "drive.mount('/content/drive')"
      ]
    },
    {
      "cell_type": "code",
      "source": [
        "pip install h5py"
      ],
      "metadata": {
        "colab": {
          "base_uri": "https://localhost:8080/"
        },
        "id": "m6px9_bEfr8u",
        "outputId": "c28de651-d5d2-433d-91b0-8455cd71eb3e"
      },
      "execution_count": 18,
      "outputs": [
        {
          "output_type": "stream",
          "name": "stdout",
          "text": [
            "Requirement already satisfied: h5py in /usr/local/lib/python3.10/dist-packages (3.9.0)\n",
            "Requirement already satisfied: numpy>=1.17.3 in /usr/local/lib/python3.10/dist-packages (from h5py) (1.25.2)\n"
          ]
        }
      ]
    },
    {
      "cell_type": "code",
      "source": [
        "!pip install scikeras"
      ],
      "metadata": {
        "colab": {
          "base_uri": "https://localhost:8080/"
        },
        "id": "pz2fqym_ftZr",
        "outputId": "9fa761a1-efa8-4fee-b071-ebf3fd91168f"
      },
      "execution_count": 19,
      "outputs": [
        {
          "output_type": "stream",
          "name": "stdout",
          "text": [
            "Requirement already satisfied: scikeras in /usr/local/lib/python3.10/dist-packages (0.13.0)\n",
            "Requirement already satisfied: keras>=3.2.0 in /usr/local/lib/python3.10/dist-packages (from scikeras) (3.4.1)\n",
            "Requirement already satisfied: scikit-learn>=1.4.2 in /usr/local/lib/python3.10/dist-packages (from scikeras) (1.5.1)\n",
            "Requirement already satisfied: absl-py in /usr/local/lib/python3.10/dist-packages (from keras>=3.2.0->scikeras) (1.4.0)\n",
            "Requirement already satisfied: numpy in /usr/local/lib/python3.10/dist-packages (from keras>=3.2.0->scikeras) (1.25.2)\n",
            "Requirement already satisfied: rich in /usr/local/lib/python3.10/dist-packages (from keras>=3.2.0->scikeras) (13.7.1)\n",
            "Requirement already satisfied: namex in /usr/local/lib/python3.10/dist-packages (from keras>=3.2.0->scikeras) (0.0.8)\n",
            "Requirement already satisfied: h5py in /usr/local/lib/python3.10/dist-packages (from keras>=3.2.0->scikeras) (3.9.0)\n",
            "Requirement already satisfied: optree in /usr/local/lib/python3.10/dist-packages (from keras>=3.2.0->scikeras) (0.12.1)\n",
            "Requirement already satisfied: ml-dtypes in /usr/local/lib/python3.10/dist-packages (from keras>=3.2.0->scikeras) (0.2.0)\n",
            "Requirement already satisfied: packaging in /usr/local/lib/python3.10/dist-packages (from keras>=3.2.0->scikeras) (24.1)\n",
            "Requirement already satisfied: scipy>=1.6.0 in /usr/local/lib/python3.10/dist-packages (from scikit-learn>=1.4.2->scikeras) (1.11.4)\n",
            "Requirement already satisfied: joblib>=1.2.0 in /usr/local/lib/python3.10/dist-packages (from scikit-learn>=1.4.2->scikeras) (1.4.2)\n",
            "Requirement already satisfied: threadpoolctl>=3.1.0 in /usr/local/lib/python3.10/dist-packages (from scikit-learn>=1.4.2->scikeras) (3.5.0)\n",
            "Requirement already satisfied: typing-extensions>=4.5.0 in /usr/local/lib/python3.10/dist-packages (from optree->keras>=3.2.0->scikeras) (4.12.2)\n",
            "Requirement already satisfied: markdown-it-py>=2.2.0 in /usr/local/lib/python3.10/dist-packages (from rich->keras>=3.2.0->scikeras) (3.0.0)\n",
            "Requirement already satisfied: pygments<3.0.0,>=2.13.0 in /usr/local/lib/python3.10/dist-packages (from rich->keras>=3.2.0->scikeras) (2.16.1)\n",
            "Requirement already satisfied: mdurl~=0.1 in /usr/local/lib/python3.10/dist-packages (from markdown-it-py>=2.2.0->rich->keras>=3.2.0->scikeras) (0.1.2)\n"
          ]
        }
      ]
    },
    {
      "cell_type": "markdown",
      "source": [
        "# Save Your Neural Network Model to JSON\n"
      ],
      "metadata": {
        "id": "f27VgdpyZ8Qg"
      }
    },
    {
      "cell_type": "code",
      "source": [
        "from tensorflow.keras.models import Sequential, model_from_json\n",
        "from tensorflow.keras.layers import Dense\n",
        "import numpy\n",
        "import os\n",
        "import pandas as pd"
      ],
      "metadata": {
        "id": "TSx9-gzvgJfa"
      },
      "execution_count": 25,
      "outputs": []
    },
    {
      "cell_type": "code",
      "source": [
        "# fix random seed for reproducibility\n",
        "numpy.random.seed(7)"
      ],
      "metadata": {
        "id": "yseOTSuwgLH7"
      },
      "execution_count": 26,
      "outputs": []
    },
    {
      "cell_type": "code",
      "source": [
        "# load pima indians dataset\n",
        "dataset = numpy.loadtxt(\"/content/drive/MyDrive/WineQT.csv\", delimiter=\",\", skiprows=1)"
      ],
      "metadata": {
        "id": "DqMVaYi9hopW"
      },
      "execution_count": 28,
      "outputs": []
    },
    {
      "cell_type": "code",
      "source": [
        "# split into input (X) and output (Y) variables\n",
        "X = dataset[:,0:8]\n",
        "Y = dataset[:,8]\n",
        "\n",
        "# create model\n",
        "model = Sequential()\n",
        "model.add(Dense(12, input_dim=8, activation='relu'))\n",
        "model.add(Dense(8, activation='relu'))\n",
        "model.add(Dense(1, activation='sigmoid'))\n",
        "\n",
        "# Compile model\n",
        "model.compile(loss='binary_crossentropy', optimizer='adam', metrics=['accuracy'])\n",
        "\n",
        "# Fit the model\n",
        "model.fit(X, Y, epochs=150, batch_size=10, verbose=0)\n",
        "\n",
        "# evaluate the model\n",
        "scores = model.evaluate(X, Y, verbose=0)\n",
        "print(\"%s: %.2f%%\" % (model.metrics_names[1], scores[1]*100))\n",
        "\n",
        "# serialize model to JSON\n",
        "model_json = model.to_json()\n",
        "with open(\"model.json\", \"w\") as json_file:\n",
        "    json_file.write(model_json)\n",
        "\n",
        "# serialize weights to HDF5\n",
        "model.save_weights(\"/content/drive/MyDrive/EMT2/EMT2_8.1/8.1.weights.h5\")\n",
        "print(\"Saved model to disk\")\n",
        "\n",
        "# later...\n",
        "\n",
        "# load json and create model\n",
        "json_file = open('model.json', 'r')\n",
        "loaded_model_json = json_file.read()\n",
        "json_file.close()\n",
        "\n",
        "loaded_model = model_from_json(loaded_model_json)\n",
        "\n",
        "# load weights into new model\n",
        "loaded_model.load_weights(\"/content/drive/MyDrive/EMT2/EMT2_8.1/8.1.weights.h5\")\n",
        "print(\"Loaded model from disk\")\n",
        "\n",
        "# evaluate loaded model on test data\n",
        "loaded_model.compile(loss='binary_crossentropy', optimizer='rmsprop', metrics=['accuracy'])\n",
        "score = loaded_model.evaluate(X, Y, verbose=0)\n",
        "print(\"%s: %.2f%%\" % (loaded_model.metrics_names[1], score[1]*100))"
      ],
      "metadata": {
        "id": "CmfZLfnJhwBq",
        "colab": {
          "base_uri": "https://localhost:8080/"
        },
        "outputId": "3c65e0aa-8d90-4d18-d907-51f592c49387"
      },
      "execution_count": 30,
      "outputs": [
        {
          "output_type": "stream",
          "name": "stdout",
          "text": [
            "compile_metrics: 0.00%\n",
            "Saved model to disk\n",
            "Loaded model from disk\n",
            "compile_metrics: 0.00%\n"
          ]
        }
      ]
    },
    {
      "cell_type": "code",
      "source": [
        "import json\n",
        "\n",
        "# path to the model.json file\n",
        "path_json = \"model.json\"\n",
        "\n",
        "# open the json file\n",
        "with open(path_json, \"r\") as f:\n",
        "    # load the contents of the file\n",
        "    content = json.load(f)\n",
        "\n",
        "# display the contents of the file\n",
        "print(content)"
      ],
      "metadata": {
        "id": "o-V7Cl33JQrk",
        "colab": {
          "base_uri": "https://localhost:8080/"
        },
        "outputId": "a06f6163-eb9e-4193-e887-28bf9e844ece"
      },
      "execution_count": 31,
      "outputs": [
        {
          "output_type": "stream",
          "name": "stdout",
          "text": [
            "{'module': 'keras', 'class_name': 'Sequential', 'config': {'name': 'sequential_9', 'trainable': True, 'dtype': {'module': 'keras', 'class_name': 'DTypePolicy', 'config': {'name': 'float32'}, 'registered_name': None}, 'layers': [{'module': 'keras.layers', 'class_name': 'InputLayer', 'config': {'batch_shape': [None, 8], 'dtype': 'float32', 'sparse': False, 'name': 'input_layer_9'}, 'registered_name': None}, {'module': 'keras.layers', 'class_name': 'Dense', 'config': {'name': 'dense_27', 'trainable': True, 'dtype': {'module': 'keras', 'class_name': 'DTypePolicy', 'config': {'name': 'float32'}, 'registered_name': None}, 'units': 12, 'activation': 'relu', 'use_bias': True, 'kernel_initializer': {'module': 'keras.initializers', 'class_name': 'GlorotUniform', 'config': {'seed': None}, 'registered_name': None}, 'bias_initializer': {'module': 'keras.initializers', 'class_name': 'Zeros', 'config': {}, 'registered_name': None}, 'kernel_regularizer': None, 'bias_regularizer': None, 'kernel_constraint': None, 'bias_constraint': None}, 'registered_name': None, 'build_config': {'input_shape': [None, 8]}}, {'module': 'keras.layers', 'class_name': 'Dense', 'config': {'name': 'dense_28', 'trainable': True, 'dtype': {'module': 'keras', 'class_name': 'DTypePolicy', 'config': {'name': 'float32'}, 'registered_name': None}, 'units': 8, 'activation': 'relu', 'use_bias': True, 'kernel_initializer': {'module': 'keras.initializers', 'class_name': 'GlorotUniform', 'config': {'seed': None}, 'registered_name': None}, 'bias_initializer': {'module': 'keras.initializers', 'class_name': 'Zeros', 'config': {}, 'registered_name': None}, 'kernel_regularizer': None, 'bias_regularizer': None, 'kernel_constraint': None, 'bias_constraint': None}, 'registered_name': None, 'build_config': {'input_shape': [None, 12]}}, {'module': 'keras.layers', 'class_name': 'Dense', 'config': {'name': 'dense_29', 'trainable': True, 'dtype': {'module': 'keras', 'class_name': 'DTypePolicy', 'config': {'name': 'float32'}, 'registered_name': None}, 'units': 1, 'activation': 'sigmoid', 'use_bias': True, 'kernel_initializer': {'module': 'keras.initializers', 'class_name': 'GlorotUniform', 'config': {'seed': None}, 'registered_name': None}, 'bias_initializer': {'module': 'keras.initializers', 'class_name': 'Zeros', 'config': {}, 'registered_name': None}, 'kernel_regularizer': None, 'bias_regularizer': None, 'kernel_constraint': None, 'bias_constraint': None}, 'registered_name': None, 'build_config': {'input_shape': [None, 8]}}], 'build_input_shape': [None, 8]}, 'registered_name': None, 'build_config': {'input_shape': [None, 8]}, 'compile_config': {'optimizer': {'module': 'keras.optimizers', 'class_name': 'Adam', 'config': {'name': 'adam', 'learning_rate': 0.0010000000474974513, 'weight_decay': None, 'clipnorm': None, 'global_clipnorm': None, 'clipvalue': None, 'use_ema': False, 'ema_momentum': 0.99, 'ema_overwrite_frequency': None, 'loss_scale_factor': None, 'gradient_accumulation_steps': None, 'beta_1': 0.9, 'beta_2': 0.999, 'epsilon': 1e-07, 'amsgrad': False}, 'registered_name': None}, 'loss': 'binary_crossentropy', 'loss_weights': None, 'metrics': ['accuracy'], 'weighted_metrics': None, 'run_eagerly': False, 'steps_per_execution': 1, 'jit_compile': False}}\n"
          ]
        }
      ]
    },
    {
      "cell_type": "markdown",
      "source": [
        "# Save Your Neural Network Model to YAML"
      ],
      "metadata": {
        "id": "JdcvlhbZaEEJ"
      }
    },
    {
      "cell_type": "code",
      "source": [
        "import os\n",
        "from tensorflow.keras.models import Sequential, model_from_json\n",
        "from tensorflow.keras.layers import Dense\n",
        "import numpy as np\n",
        "\n",
        "# fix random seed for reproducibility\n",
        "seed = 7\n",
        "np.random.seed(seed)\n",
        "\n",
        "# load winequality dataset\n",
        "dataset = np.genfromtxt(\"/content/drive/MyDrive/WineQT.csv\", delimiter=\",\", skip_header=1)\n",
        "\n",
        "# split into input (X) and output (Y) variables\n",
        "X = dataset[:,0:8]\n",
        "Y = dataset[:,8]\n",
        "\n",
        "# create model\n",
        "model = Sequential()\n",
        "model.add(Dense(12, input_dim=8, activation='relu'))\n",
        "model.add(Dense(8, activation='relu'))\n",
        "model.add(Dense(1, activation='sigmoid'))\n",
        "\n",
        "# Compile model\n",
        "model.compile(loss='binary_crossentropy', optimizer='adam', metrics=['accuracy'])\n",
        "\n",
        "# Fit the model\n",
        "model.fit(X, Y, epochs=150, batch_size=10, verbose=0)\n",
        "\n",
        "# evaluate the model\n",
        "scores = model.evaluate(X, Y, verbose=0)\n",
        "print(\"%s: %.2f%%\" % (model.metrics_names[1], scores[1]*100))\n",
        "\n",
        "# serialize model to JSON\n",
        "model_json = model.to_json()\n",
        "with open(\"model.json\", \"w\") as json_file:\n",
        "    json_file.write(model_json)\n",
        "\n",
        "# Define the directory path for weights\n",
        "weights_dir = '/content/drive/MyDrive/EMT2/EMT2_8.1/8.1/'\n",
        "\n",
        "# Ensure the directory exists\n",
        "os.makedirs(weights_dir, exist_ok=True)\n",
        "\n",
        "# serialize weights to HDF5\n",
        "model.save_weights(os.path.join(weights_dir, \"model_json.weights.h5\"))\n",
        "print(\"Saved model weights to disk\")\n",
        "\n",
        "\n",
        "\n",
        "# load JSON and create model\n",
        "json_file = open('model.json', 'r')\n",
        "loaded_model_json = json_file.read()\n",
        "json_file.close()\n",
        "loaded_model = model_from_json(loaded_model_json)\n",
        "\n",
        "# load weights into new model\n",
        "loaded_model.load_weights(os.path.join(weights_dir, \"model_json.weights.h5\"))\n",
        "print(\"Loaded model weights from disk\")\n",
        "\n",
        "# evaluate loaded model on test data\n",
        "loaded_model.compile(loss='binary_crossentropy', optimizer='rmsprop', metrics=['accuracy'])\n",
        "score = loaded_model.evaluate(X, Y, verbose=0)\n",
        "print(\"%s: %.2f%%\" % (loaded_model.metrics_names[1], score[1]*100))\n"
      ],
      "metadata": {
        "colab": {
          "base_uri": "https://localhost:8080/"
        },
        "id": "fH8bRoo9OHGV",
        "outputId": "2c1a6977-1457-49d8-a809-58b3e6a6b246"
      },
      "execution_count": 38,
      "outputs": [
        {
          "output_type": "stream",
          "name": "stdout",
          "text": [
            "compile_metrics: 0.00%\n",
            "Saved model weights to disk\n",
            "Loaded model weights from disk\n",
            "compile_metrics: 0.00%\n"
          ]
        }
      ]
    },
    {
      "cell_type": "markdown",
      "source": [
        "# Save to a Keras Model"
      ],
      "metadata": {
        "id": "u-akU1iPaJDc"
      }
    },
    {
      "cell_type": "code",
      "source": [
        "# MLP for Pima Indians Dataset saved to single file\n",
        "from numpy import loadtxt\n",
        "from tensorflow.keras.models import Sequential\n",
        "from tensorflow.keras.layers import Dense\n",
        "# load pima indians dataset\n",
        "dataset = loadtxt(\"/content/drive/MyDrive/WineQT.csv\", delimiter=\",\", skiprows=1)\n",
        "\n",
        "# split into input (X) and output (Y) variables\n",
        "X = dataset[:,0:8]\n",
        "Y = dataset[:,8]\n",
        "# define model\n",
        "model = Sequential()\n",
        "model.add(Dense(12, input_dim=8, activation='relu'))\n",
        "model.add(Dense(8, activation='relu'))\n",
        "model.add(Dense(1, activation='sigmoid'))\n",
        "# compile model\n",
        "model.compile(loss='binary_crossentropy', optimizer='adam', metrics=['accuracy'])\n",
        "# Fit the model\n",
        "model.fit(X, Y, epochs=150, batch_size=10, verbose=0)\n",
        "# evaluate the model\n",
        "scores = model.evaluate(X, Y, verbose=0)\n",
        "print(\"%s: %.2f%%\" % (model.metrics_names[1], scores[1]*100))\n",
        "# save model and architecture to single file\n",
        "model.save(\"/content/drive/MyDrive/EMT2/EMT2_8.1/8.1/model.h5\")\n",
        "print(\"Saved model to disk\")"
      ],
      "metadata": {
        "colab": {
          "base_uri": "https://localhost:8080/"
        },
        "id": "PDwFIFdROaNd",
        "outputId": "ed5835e1-7c40-4d7c-e071-c6e8575a2358"
      },
      "execution_count": 39,
      "outputs": [
        {
          "output_type": "stream",
          "name": "stderr",
          "text": [
            "WARNING:absl:You are saving your model as an HDF5 file via `model.save()` or `keras.saving.save_model(model)`. This file format is considered legacy. We recommend using instead the native Keras format, e.g. `model.save('my_model.keras')` or `keras.saving.save_model(model, 'my_model.keras')`. \n"
          ]
        },
        {
          "output_type": "stream",
          "name": "stdout",
          "text": [
            "compile_metrics: 0.00%\n",
            "Saved model to disk\n"
          ]
        }
      ]
    },
    {
      "cell_type": "markdown",
      "source": [
        "# Checkpoint Neural Network Model Improvements"
      ],
      "metadata": {
        "id": "QVKEg8FoaMGE"
      }
    },
    {
      "cell_type": "code",
      "source": [
        "# Checkpoint the weights when validation accuracy improves\n",
        "from tensorflow.keras.models import Sequential\n",
        "from tensorflow.keras.layers import Dense\n",
        "from tensorflow.keras.callbacks import ModelCheckpoint\n",
        "import matplotlib.pyplot as plt\n",
        "import numpy as np\n",
        "import tensorflow as tf\n",
        "\n",
        "seed = 42\n",
        "tf.random.set_seed(seed)\n",
        "\n",
        "# load pima indians dataset\n",
        "dataset = np.loadtxt(\"/content/drive/MyDrive/WineQT.csv\", delimiter=\",\", skiprows=1)\n",
        "\n",
        "# split into input (X) and output (Y) variables\n",
        "X = dataset[:,0:8]\n",
        "Y = dataset[:,8]\n",
        "\n",
        "# create model\n",
        "model = Sequential()\n",
        "model.add(Dense(12, input_shape=(8,), activation='relu'))\n",
        "model.add(Dense(8, activation='relu'))\n",
        "model.add(Dense(1, activation='sigmoid'))\n",
        "\n",
        "# Compile model\n",
        "model.compile(loss='binary_crossentropy', optimizer='adam', metrics=['accuracy'])\n",
        "\n",
        "# checkpoint\n",
        "filepath=\"/content/drive/MyDrive/EMT2/EMT2_8.1/8.1/weights-improvement-{epoch:02d}-{val_accuracy:.2f}.keras\"\n",
        "checkpoint = ModelCheckpoint(filepath, monitor='val_accuracy', verbose=1, save_best_only=True, mode='max')\n",
        "callbacks_list = [checkpoint]\n",
        "\n",
        "# Fit the model\n",
        "model.fit(X, Y, validation_split=0.33, epochs=150, batch_size=10, callbacks=callbacks_list, verbose=0)\n"
      ],
      "metadata": {
        "colab": {
          "base_uri": "https://localhost:8080/"
        },
        "id": "BnWKJiMtRdFG",
        "outputId": "1e5de941-cdcf-4322-8c56-db785d097af9"
      },
      "execution_count": 44,
      "outputs": [
        {
          "output_type": "stream",
          "name": "stdout",
          "text": [
            "\n",
            "Epoch 1: val_accuracy improved from -inf to 0.00000, saving model to /content/drive/MyDrive/EMT2/EMT2_8.1/8.1/weights-improvement-01-0.00.keras\n",
            "\n",
            "Epoch 2: val_accuracy did not improve from 0.00000\n",
            "\n",
            "Epoch 3: val_accuracy did not improve from 0.00000\n",
            "\n",
            "Epoch 4: val_accuracy did not improve from 0.00000\n",
            "\n",
            "Epoch 5: val_accuracy did not improve from 0.00000\n",
            "\n",
            "Epoch 6: val_accuracy did not improve from 0.00000\n",
            "\n",
            "Epoch 7: val_accuracy did not improve from 0.00000\n",
            "\n",
            "Epoch 8: val_accuracy did not improve from 0.00000\n",
            "\n",
            "Epoch 9: val_accuracy did not improve from 0.00000\n",
            "\n",
            "Epoch 10: val_accuracy did not improve from 0.00000\n",
            "\n",
            "Epoch 11: val_accuracy did not improve from 0.00000\n",
            "\n",
            "Epoch 12: val_accuracy did not improve from 0.00000\n",
            "\n",
            "Epoch 13: val_accuracy did not improve from 0.00000\n",
            "\n",
            "Epoch 14: val_accuracy did not improve from 0.00000\n",
            "\n",
            "Epoch 15: val_accuracy did not improve from 0.00000\n",
            "\n",
            "Epoch 16: val_accuracy did not improve from 0.00000\n",
            "\n",
            "Epoch 17: val_accuracy did not improve from 0.00000\n",
            "\n",
            "Epoch 18: val_accuracy did not improve from 0.00000\n",
            "\n",
            "Epoch 19: val_accuracy did not improve from 0.00000\n",
            "\n",
            "Epoch 20: val_accuracy did not improve from 0.00000\n",
            "\n",
            "Epoch 21: val_accuracy did not improve from 0.00000\n",
            "\n",
            "Epoch 22: val_accuracy did not improve from 0.00000\n",
            "\n",
            "Epoch 23: val_accuracy did not improve from 0.00000\n",
            "\n",
            "Epoch 24: val_accuracy did not improve from 0.00000\n",
            "\n",
            "Epoch 25: val_accuracy did not improve from 0.00000\n",
            "\n",
            "Epoch 26: val_accuracy did not improve from 0.00000\n",
            "\n",
            "Epoch 27: val_accuracy did not improve from 0.00000\n",
            "\n",
            "Epoch 28: val_accuracy did not improve from 0.00000\n",
            "\n",
            "Epoch 29: val_accuracy did not improve from 0.00000\n",
            "\n",
            "Epoch 30: val_accuracy did not improve from 0.00000\n",
            "\n",
            "Epoch 31: val_accuracy did not improve from 0.00000\n",
            "\n",
            "Epoch 32: val_accuracy did not improve from 0.00000\n",
            "\n",
            "Epoch 33: val_accuracy did not improve from 0.00000\n",
            "\n",
            "Epoch 34: val_accuracy did not improve from 0.00000\n",
            "\n",
            "Epoch 35: val_accuracy did not improve from 0.00000\n",
            "\n",
            "Epoch 36: val_accuracy did not improve from 0.00000\n",
            "\n",
            "Epoch 37: val_accuracy did not improve from 0.00000\n",
            "\n",
            "Epoch 38: val_accuracy did not improve from 0.00000\n",
            "\n",
            "Epoch 39: val_accuracy did not improve from 0.00000\n",
            "\n",
            "Epoch 40: val_accuracy did not improve from 0.00000\n",
            "\n",
            "Epoch 41: val_accuracy did not improve from 0.00000\n",
            "\n",
            "Epoch 42: val_accuracy did not improve from 0.00000\n",
            "\n",
            "Epoch 43: val_accuracy did not improve from 0.00000\n",
            "\n",
            "Epoch 44: val_accuracy did not improve from 0.00000\n",
            "\n",
            "Epoch 45: val_accuracy did not improve from 0.00000\n",
            "\n",
            "Epoch 46: val_accuracy did not improve from 0.00000\n",
            "\n",
            "Epoch 47: val_accuracy did not improve from 0.00000\n",
            "\n",
            "Epoch 48: val_accuracy did not improve from 0.00000\n",
            "\n",
            "Epoch 49: val_accuracy did not improve from 0.00000\n",
            "\n",
            "Epoch 50: val_accuracy did not improve from 0.00000\n",
            "\n",
            "Epoch 51: val_accuracy did not improve from 0.00000\n",
            "\n",
            "Epoch 52: val_accuracy did not improve from 0.00000\n",
            "\n",
            "Epoch 53: val_accuracy did not improve from 0.00000\n",
            "\n",
            "Epoch 54: val_accuracy did not improve from 0.00000\n",
            "\n",
            "Epoch 55: val_accuracy did not improve from 0.00000\n",
            "\n",
            "Epoch 56: val_accuracy did not improve from 0.00000\n",
            "\n",
            "Epoch 57: val_accuracy did not improve from 0.00000\n",
            "\n",
            "Epoch 58: val_accuracy did not improve from 0.00000\n",
            "\n",
            "Epoch 59: val_accuracy did not improve from 0.00000\n",
            "\n",
            "Epoch 60: val_accuracy did not improve from 0.00000\n",
            "\n",
            "Epoch 61: val_accuracy did not improve from 0.00000\n",
            "\n",
            "Epoch 62: val_accuracy did not improve from 0.00000\n",
            "\n",
            "Epoch 63: val_accuracy did not improve from 0.00000\n",
            "\n",
            "Epoch 64: val_accuracy did not improve from 0.00000\n",
            "\n",
            "Epoch 65: val_accuracy did not improve from 0.00000\n",
            "\n",
            "Epoch 66: val_accuracy did not improve from 0.00000\n",
            "\n",
            "Epoch 67: val_accuracy did not improve from 0.00000\n",
            "\n",
            "Epoch 68: val_accuracy did not improve from 0.00000\n",
            "\n",
            "Epoch 69: val_accuracy did not improve from 0.00000\n",
            "\n",
            "Epoch 70: val_accuracy did not improve from 0.00000\n",
            "\n",
            "Epoch 71: val_accuracy did not improve from 0.00000\n",
            "\n",
            "Epoch 72: val_accuracy did not improve from 0.00000\n",
            "\n",
            "Epoch 73: val_accuracy did not improve from 0.00000\n",
            "\n",
            "Epoch 74: val_accuracy did not improve from 0.00000\n",
            "\n",
            "Epoch 75: val_accuracy did not improve from 0.00000\n",
            "\n",
            "Epoch 76: val_accuracy did not improve from 0.00000\n",
            "\n",
            "Epoch 77: val_accuracy did not improve from 0.00000\n",
            "\n",
            "Epoch 78: val_accuracy did not improve from 0.00000\n",
            "\n",
            "Epoch 79: val_accuracy did not improve from 0.00000\n",
            "\n",
            "Epoch 80: val_accuracy did not improve from 0.00000\n",
            "\n",
            "Epoch 81: val_accuracy did not improve from 0.00000\n",
            "\n",
            "Epoch 82: val_accuracy did not improve from 0.00000\n",
            "\n",
            "Epoch 83: val_accuracy did not improve from 0.00000\n",
            "\n",
            "Epoch 84: val_accuracy did not improve from 0.00000\n",
            "\n",
            "Epoch 85: val_accuracy did not improve from 0.00000\n",
            "\n",
            "Epoch 86: val_accuracy did not improve from 0.00000\n",
            "\n",
            "Epoch 87: val_accuracy did not improve from 0.00000\n",
            "\n",
            "Epoch 88: val_accuracy did not improve from 0.00000\n",
            "\n",
            "Epoch 89: val_accuracy did not improve from 0.00000\n",
            "\n",
            "Epoch 90: val_accuracy did not improve from 0.00000\n",
            "\n",
            "Epoch 91: val_accuracy did not improve from 0.00000\n",
            "\n",
            "Epoch 92: val_accuracy did not improve from 0.00000\n",
            "\n",
            "Epoch 93: val_accuracy did not improve from 0.00000\n",
            "\n",
            "Epoch 94: val_accuracy did not improve from 0.00000\n",
            "\n",
            "Epoch 95: val_accuracy did not improve from 0.00000\n",
            "\n",
            "Epoch 96: val_accuracy did not improve from 0.00000\n",
            "\n",
            "Epoch 97: val_accuracy did not improve from 0.00000\n",
            "\n",
            "Epoch 98: val_accuracy did not improve from 0.00000\n",
            "\n",
            "Epoch 99: val_accuracy did not improve from 0.00000\n",
            "\n",
            "Epoch 100: val_accuracy did not improve from 0.00000\n",
            "\n",
            "Epoch 101: val_accuracy did not improve from 0.00000\n",
            "\n",
            "Epoch 102: val_accuracy did not improve from 0.00000\n",
            "\n",
            "Epoch 103: val_accuracy did not improve from 0.00000\n",
            "\n",
            "Epoch 104: val_accuracy did not improve from 0.00000\n",
            "\n",
            "Epoch 105: val_accuracy did not improve from 0.00000\n",
            "\n",
            "Epoch 106: val_accuracy did not improve from 0.00000\n",
            "\n",
            "Epoch 107: val_accuracy did not improve from 0.00000\n",
            "\n",
            "Epoch 108: val_accuracy did not improve from 0.00000\n",
            "\n",
            "Epoch 109: val_accuracy did not improve from 0.00000\n",
            "\n",
            "Epoch 110: val_accuracy did not improve from 0.00000\n",
            "\n",
            "Epoch 111: val_accuracy did not improve from 0.00000\n",
            "\n",
            "Epoch 112: val_accuracy did not improve from 0.00000\n",
            "\n",
            "Epoch 113: val_accuracy did not improve from 0.00000\n",
            "\n",
            "Epoch 114: val_accuracy did not improve from 0.00000\n",
            "\n",
            "Epoch 115: val_accuracy did not improve from 0.00000\n",
            "\n",
            "Epoch 116: val_accuracy did not improve from 0.00000\n",
            "\n",
            "Epoch 117: val_accuracy did not improve from 0.00000\n",
            "\n",
            "Epoch 118: val_accuracy did not improve from 0.00000\n",
            "\n",
            "Epoch 119: val_accuracy did not improve from 0.00000\n",
            "\n",
            "Epoch 120: val_accuracy did not improve from 0.00000\n",
            "\n",
            "Epoch 121: val_accuracy did not improve from 0.00000\n",
            "\n",
            "Epoch 122: val_accuracy did not improve from 0.00000\n",
            "\n",
            "Epoch 123: val_accuracy did not improve from 0.00000\n",
            "\n",
            "Epoch 124: val_accuracy did not improve from 0.00000\n",
            "\n",
            "Epoch 125: val_accuracy did not improve from 0.00000\n",
            "\n",
            "Epoch 126: val_accuracy did not improve from 0.00000\n",
            "\n",
            "Epoch 127: val_accuracy did not improve from 0.00000\n",
            "\n",
            "Epoch 128: val_accuracy did not improve from 0.00000\n",
            "\n",
            "Epoch 129: val_accuracy did not improve from 0.00000\n",
            "\n",
            "Epoch 130: val_accuracy did not improve from 0.00000\n",
            "\n",
            "Epoch 131: val_accuracy did not improve from 0.00000\n",
            "\n",
            "Epoch 132: val_accuracy did not improve from 0.00000\n",
            "\n",
            "Epoch 133: val_accuracy did not improve from 0.00000\n",
            "\n",
            "Epoch 134: val_accuracy did not improve from 0.00000\n",
            "\n",
            "Epoch 135: val_accuracy did not improve from 0.00000\n",
            "\n",
            "Epoch 136: val_accuracy did not improve from 0.00000\n",
            "\n",
            "Epoch 137: val_accuracy did not improve from 0.00000\n",
            "\n",
            "Epoch 138: val_accuracy did not improve from 0.00000\n",
            "\n",
            "Epoch 139: val_accuracy did not improve from 0.00000\n",
            "\n",
            "Epoch 140: val_accuracy did not improve from 0.00000\n",
            "\n",
            "Epoch 141: val_accuracy did not improve from 0.00000\n",
            "\n",
            "Epoch 142: val_accuracy did not improve from 0.00000\n",
            "\n",
            "Epoch 143: val_accuracy did not improve from 0.00000\n",
            "\n",
            "Epoch 144: val_accuracy did not improve from 0.00000\n",
            "\n",
            "Epoch 145: val_accuracy did not improve from 0.00000\n",
            "\n",
            "Epoch 146: val_accuracy did not improve from 0.00000\n",
            "\n",
            "Epoch 147: val_accuracy did not improve from 0.00000\n",
            "\n",
            "Epoch 148: val_accuracy did not improve from 0.00000\n",
            "\n",
            "Epoch 149: val_accuracy did not improve from 0.00000\n",
            "\n",
            "Epoch 150: val_accuracy did not improve from 0.00000\n"
          ]
        },
        {
          "output_type": "execute_result",
          "data": {
            "text/plain": [
              "<keras.src.callbacks.history.History at 0x7f8e5cbf3640>"
            ]
          },
          "metadata": {},
          "execution_count": 44
        }
      ]
    },
    {
      "cell_type": "markdown",
      "source": [
        "# Loading a Saved Neural Network Model"
      ],
      "metadata": {
        "id": "Qu6-5tZnaOzk"
      }
    },
    {
      "cell_type": "code",
      "source": [
        "# How to load and use weights from a checkpoint\n",
        "from keras.models import Sequential\n",
        "from keras.layers import Dense\n",
        "from keras.callbacks import ModelCheckpoint\n",
        "import matplotlib.pyplot as plt\n",
        "import numpy\n",
        "# fix random seed for reproducibility\n",
        "seed = 7\n",
        "numpy.random.seed(seed)\n",
        "# create model\n",
        "model = Sequential()\n",
        "model.add(Dense(12, input_dim=8, kernel_initializer = 'uniform' , activation= 'relu' ))\n",
        "model.add(Dense(8, kernel_initializer= 'uniform' , activation= 'relu' ))\n",
        "model.add(Dense(1, kernel_initializer= 'uniform' , activation= 'sigmoid' ))\n",
        "# load weights\n",
        "model.load_weights(\"/content/drive/MyDrive/EMT2/EMT2_8.1/8.1/weights-improvement-01-0.00.keras\")\n",
        "# Compile model (required to make predictions)\n",
        "model.compile(loss= 'binary_crossentropy' , optimizer= 'adam' , metrics=[ 'accuracy' ])\n",
        "print(\"Created model and loaded weights from file\")\n",
        "# load pima indians dataset\n",
        "dataset = numpy.loadtxt(\"/content/drive/MyDrive/WineQT.csv\", delimiter=\",\", skiprows=1)\n",
        "\n",
        "# split into input (X) and output (Y) variables\n",
        "X = dataset[:,0:8]\n",
        "Y = dataset[:,8]\n",
        "# estimate accuracy on whole dataset using loaded weights\n",
        "scores = model.evaluate(X, Y, verbose=0)\n",
        "print(\"%s: %.2f%%\" % (model.metrics_names[1], scores[1]*100))\n"
      ],
      "metadata": {
        "colab": {
          "base_uri": "https://localhost:8080/"
        },
        "id": "fcLRYkWASQ_t",
        "outputId": "55dfdf2a-9586-4369-d57e-689ec08a3cfb"
      },
      "execution_count": 47,
      "outputs": [
        {
          "output_type": "stream",
          "name": "stdout",
          "text": [
            "Created model and loaded weights from file\n",
            "compile_metrics: 0.00%\n"
          ]
        }
      ]
    },
    {
      "cell_type": "markdown",
      "source": [
        "# Visualize Model Training History in Keras"
      ],
      "metadata": {
        "id": "7ivMftM8aR0M"
      }
    },
    {
      "cell_type": "code",
      "source": [
        "# Visualize training history\n",
        "from tensorflow.keras.models import Sequential\n",
        "from tensorflow.keras.layers import Dense\n",
        "import matplotlib.pyplot as plt\n",
        "import numpy as np\n",
        "# load pima indians dataset\n",
        "\n",
        "dataset = np.loadtxt(\"/content/drive/MyDrive/WineQT.csv\", delimiter=\",\", skiprows=1)\n",
        "\n",
        "# split into input (X) and output (Y) variables\n",
        "X = dataset[:,0:8]\n",
        "Y = dataset[:,8]\n",
        "# create model\n",
        "model = Sequential()\n",
        "model.add(Dense(12, input_dim=8, activation='relu'))\n",
        "model.add(Dense(8, activation='relu'))\n",
        "model.add(Dense(1, activation='sigmoid'))\n",
        "# Compile model\n",
        "model.compile(loss='binary_crossentropy', optimizer='adam', metrics=['accuracy'])\n",
        "# Fit the model\n",
        "history = model.fit(X, Y, validation_split=0.33, epochs=150, batch_size=10, verbose=0)\n",
        "# list all data in history\n",
        "print(history.history.keys())\n",
        "# summarize history for accuracy\n",
        "plt.plot(history.history['accuracy'])\n",
        "plt.plot(history.history['val_accuracy'])\n",
        "plt.title('model accuracy')\n",
        "plt.ylabel('accuracy')\n",
        "plt.xlabel('epoch')\n",
        "plt.legend(['train', 'test'], loc='upper left')\n",
        "plt.show()\n",
        "# summarize history for loss\n",
        "plt.plot(history.history['loss'])\n",
        "plt.plot(history.history['val_loss'])\n",
        "plt.title('model loss')\n",
        "plt.ylabel('loss')\n",
        "plt.xlabel('epoch')\n",
        "plt.legend(['train', 'test'], loc='upper left')\n",
        "plt.show()"
      ],
      "metadata": {
        "colab": {
          "base_uri": "https://localhost:8080/",
          "height": 944
        },
        "id": "ddPpDnPlTnMu",
        "outputId": "6b15f5fb-b6e1-4431-8679-888161e3f684"
      },
      "execution_count": 48,
      "outputs": [
        {
          "output_type": "stream",
          "name": "stdout",
          "text": [
            "dict_keys(['accuracy', 'loss', 'val_accuracy', 'val_loss'])\n"
          ]
        },
        {
          "output_type": "display_data",
          "data": {
            "text/plain": [
              "<Figure size 640x480 with 1 Axes>"
            ],
            "image/png": "[encoded data removed]"
          },
          "metadata": {}
        },
        {
          "output_type": "display_data",
          "data": {
            "text/plain": [
              "<Figure size 640x480 with 1 Axes>"
            ],
            "image/png": "[encoded data removed]"
          },
          "metadata": {}
        }
      ]
    },
    {
      "cell_type": "markdown",
      "source": [
        "# Dropout Regularization in Keras"
      ],
      "metadata": {
        "id": "JIHz60RIaUQM"
      }
    },
    {
      "cell_type": "code",
      "source": [
        " !pip install scikeras"
      ],
      "metadata": {
        "colab": {
          "base_uri": "https://localhost:8080/"
        },
        "id": "m_KcM8JZT55P",
        "outputId": "374d6d77-72e4-4186-d708-2757045b8dd1"
      },
      "execution_count": 49,
      "outputs": [
        {
          "output_type": "stream",
          "name": "stdout",
          "text": [
            "Requirement already satisfied: scikeras in /usr/local/lib/python3.10/dist-packages (0.13.0)\n",
            "Requirement already satisfied: keras>=3.2.0 in /usr/local/lib/python3.10/dist-packages (from scikeras) (3.4.1)\n",
            "Requirement already satisfied: scikit-learn>=1.4.2 in /usr/local/lib/python3.10/dist-packages (from scikeras) (1.5.1)\n",
            "Requirement already satisfied: absl-py in /usr/local/lib/python3.10/dist-packages (from keras>=3.2.0->scikeras) (1.4.0)\n",
            "Requirement already satisfied: numpy in /usr/local/lib/python3.10/dist-packages (from keras>=3.2.0->scikeras) (1.25.2)\n",
            "Requirement already satisfied: rich in /usr/local/lib/python3.10/dist-packages (from keras>=3.2.0->scikeras) (13.7.1)\n",
            "Requirement already satisfied: namex in /usr/local/lib/python3.10/dist-packages (from keras>=3.2.0->scikeras) (0.0.8)\n",
            "Requirement already satisfied: h5py in /usr/local/lib/python3.10/dist-packages (from keras>=3.2.0->scikeras) (3.9.0)\n",
            "Requirement already satisfied: optree in /usr/local/lib/python3.10/dist-packages (from keras>=3.2.0->scikeras) (0.12.1)\n",
            "Requirement already satisfied: ml-dtypes in /usr/local/lib/python3.10/dist-packages (from keras>=3.2.0->scikeras) (0.2.0)\n",
            "Requirement already satisfied: packaging in /usr/local/lib/python3.10/dist-packages (from keras>=3.2.0->scikeras) (24.1)\n",
            "Requirement already satisfied: scipy>=1.6.0 in /usr/local/lib/python3.10/dist-packages (from scikit-learn>=1.4.2->scikeras) (1.11.4)\n",
            "Requirement already satisfied: joblib>=1.2.0 in /usr/local/lib/python3.10/dist-packages (from scikit-learn>=1.4.2->scikeras) (1.4.2)\n",
            "Requirement already satisfied: threadpoolctl>=3.1.0 in /usr/local/lib/python3.10/dist-packages (from scikit-learn>=1.4.2->scikeras) (3.5.0)\n",
            "Requirement already satisfied: typing-extensions>=4.5.0 in /usr/local/lib/python3.10/dist-packages (from optree->keras>=3.2.0->scikeras) (4.12.2)\n",
            "Requirement already satisfied: markdown-it-py>=2.2.0 in /usr/local/lib/python3.10/dist-packages (from rich->keras>=3.2.0->scikeras) (3.0.0)\n",
            "Requirement already satisfied: pygments<3.0.0,>=2.13.0 in /usr/local/lib/python3.10/dist-packages (from rich->keras>=3.2.0->scikeras) (2.16.1)\n",
            "Requirement already satisfied: mdurl~=0.1 in /usr/local/lib/python3.10/dist-packages (from markdown-it-py>=2.2.0->rich->keras>=3.2.0->scikeras) (0.1.2)\n"
          ]
        }
      ]
    },
    {
      "cell_type": "code",
      "source": [
        "from pandas import read_csv\n",
        "from tensorflow.keras.models import Sequential\n",
        "from tensorflow.keras.layers import Dense\n",
        "from tensorflow.keras.layers import Dropout\n",
        "from tensorflow.keras.constraints import MaxNorm\n",
        "from tensorflow.keras.optimizers import SGD\n",
        "from scikeras.wrappers import KerasClassifier\n",
        "from sklearn.model_selection import cross_val_score\n",
        "from sklearn.preprocessing import LabelEncoder\n",
        "from sklearn.model_selection import StratifiedKFold\n",
        "from sklearn.preprocessing import StandardScaler\n",
        "from sklearn.pipeline import Pipeline\n",
        "# load dataset\n",
        "dataframe = read_csv(\"/content/drive/MyDrive/EMT2/EMT2_8.1/8.1/Sonar.csv\", header=None)\n",
        "dataset = dataframe.values\n",
        "# split into input (X) and output (Y) variables\n",
        "X = dataset[:,0:60].astype(float)\n",
        "Y = dataset[:,60]\n",
        "# encode class values as integers\n",
        "encoder = LabelEncoder()\n",
        "encoder.fit(Y)\n",
        "encoded_Y = encoder.transform(Y)\n",
        "\n",
        "# dropout in the input layer with weight constraint\n",
        "def create_model():\n",
        "\t# create model\n",
        "\tmodel = Sequential()\n",
        "\tmodel.add(Dropout(0.2, input_shape=(60,)))\n",
        "\tmodel.add(Dense(60, activation='relu', kernel_constraint=MaxNorm(3)))\n",
        "\tmodel.add(Dense(30, activation='relu', kernel_constraint=MaxNorm(3)))\n",
        "\tmodel.add(Dense(1, activation='sigmoid'))\n",
        "\t# Compile model\n",
        "\tsgd = SGD(learning_rate=0.1, momentum=0.9)\n",
        "\tmodel.compile(loss='binary_crossentropy', optimizer=sgd, metrics=['accuracy'])\n",
        "\treturn model\n",
        "\n",
        "estimators = []\n",
        "estimators.append(('standardize', StandardScaler()))\n",
        "estimators.append(('mlp', KerasClassifier(model=create_model, epochs=300, batch_size=16, verbose=0)))\n",
        "pipeline = Pipeline(estimators)\n",
        "kfold = StratifiedKFold(n_splits=10, shuffle=True)\n",
        "results = cross_val_score(pipeline, X, encoded_Y, cv=kfold)\n",
        "print(\"Visible: %.2f%% (%.2f%%)\" % (results.mean()*100, results.std()*100))"
      ],
      "metadata": {
        "colab": {
          "base_uri": "https://localhost:8080/"
        },
        "id": "qIQCJYkxZra9",
        "outputId": "b997a955-5ca0-48bc-fda4-a1966f0ebf1f"
      },
      "execution_count": 58,
      "outputs": [
        {
          "output_type": "stream",
          "name": "stderr",
          "text": [
            "/usr/local/lib/python3.10/dist-packages/keras/src/layers/regularization/dropout.py:42: UserWarning: Do not pass an `input_shape`/`input_dim` argument to a layer. When using Sequential models, prefer using an `Input(shape)` object as the first layer in the model instead.\n",
            "  super().__init__(**kwargs)\n",
            "/usr/local/lib/python3.10/dist-packages/keras/src/layers/regularization/dropout.py:42: UserWarning: Do not pass an `input_shape`/`input_dim` argument to a layer. When using Sequential models, prefer using an `Input(shape)` object as the first layer in the model instead.\n",
            "  super().__init__(**kwargs)\n",
            "/usr/local/lib/python3.10/dist-packages/keras/src/layers/regularization/dropout.py:42: UserWarning: Do not pass an `input_shape`/`input_dim` argument to a layer. When using Sequential models, prefer using an `Input(shape)` object as the first layer in the model instead.\n",
            "  super().__init__(**kwargs)\n",
            "/usr/local/lib/python3.10/dist-packages/keras/src/layers/regularization/dropout.py:42: UserWarning: Do not pass an `input_shape`/`input_dim` argument to a layer. When using Sequential models, prefer using an `Input(shape)` object as the first layer in the model instead.\n",
            "  super().__init__(**kwargs)\n",
            "/usr/local/lib/python3.10/dist-packages/keras/src/layers/regularization/dropout.py:42: UserWarning: Do not pass an `input_shape`/`input_dim` argument to a layer. When using Sequential models, prefer using an `Input(shape)` object as the first layer in the model instead.\n",
            "  super().__init__(**kwargs)\n",
            "/usr/local/lib/python3.10/dist-packages/keras/src/layers/regularization/dropout.py:42: UserWarning: Do not pass an `input_shape`/`input_dim` argument to a layer. When using Sequential models, prefer using an `Input(shape)` object as the first layer in the model instead.\n",
            "  super().__init__(**kwargs)\n",
            "/usr/local/lib/python3.10/dist-packages/keras/src/layers/regularization/dropout.py:42: UserWarning: Do not pass an `input_shape`/`input_dim` argument to a layer. When using Sequential models, prefer using an `Input(shape)` object as the first layer in the model instead.\n",
            "  super().__init__(**kwargs)\n",
            "/usr/local/lib/python3.10/dist-packages/keras/src/layers/regularization/dropout.py:42: UserWarning: Do not pass an `input_shape`/`input_dim` argument to a layer. When using Sequential models, prefer using an `Input(shape)` object as the first layer in the model instead.\n",
            "  super().__init__(**kwargs)\n",
            "/usr/local/lib/python3.10/dist-packages/keras/src/layers/regularization/dropout.py:42: UserWarning: Do not pass an `input_shape`/`input_dim` argument to a layer. When using Sequential models, prefer using an `Input(shape)` object as the first layer in the model instead.\n",
            "  super().__init__(**kwargs)\n",
            "/usr/local/lib/python3.10/dist-packages/keras/src/layers/regularization/dropout.py:42: UserWarning: Do not pass an `input_shape`/`input_dim` argument to a layer. When using Sequential models, prefer using an `Input(shape)` object as the first layer in the model instead.\n",
            "  super().__init__(**kwargs)\n"
          ]
        },
        {
          "output_type": "stream",
          "name": "stdout",
          "text": [
            "Visible: 86.07% (9.13%)\n"
          ]
        }
      ]
    },
    {
      "cell_type": "markdown",
      "source": [
        "# Using Dropout on the Visible Layer"
      ],
      "metadata": {
        "id": "gQL7T91xadpm"
      }
    },
    {
      "cell_type": "code",
      "source": [
        "from pandas import read_csv\n",
        "from tensorflow.keras.models import Sequential\n",
        "from tensorflow.keras.layers import Dense\n",
        "from tensorflow.keras.layers import Dropout\n",
        "from tensorflow.keras.constraints import MaxNorm\n",
        "from tensorflow.keras.optimizers import SGD\n",
        "from scikeras.wrappers import KerasClassifier\n",
        "from sklearn.model_selection import cross_val_score\n",
        "from sklearn.preprocessing import LabelEncoder\n",
        "from sklearn.model_selection import StratifiedKFold\n",
        "from sklearn.preprocessing import StandardScaler\n",
        "from sklearn.pipeline import Pipeline\n",
        "# load dataset\n",
        "dataframe = read_csv(\"/content/drive/MyDrive/EMT2/EMT2_8.1/8.1/Sonar.csv\", header=None)\n",
        "dataset = dataframe.values\n",
        "# split into input (X) and output (Y) variables\n",
        "X = dataset[:,0:60].astype(float)\n",
        "Y = dataset[:,60]\n",
        "# encode class values as integers\n",
        "encoder = LabelEncoder()\n",
        "encoder.fit(Y)\n",
        "encoded_Y = encoder.transform(Y)\n",
        "\n",
        "# dropout in the input layer with weight constraint\n",
        "def create_model():\n",
        "\t# create model\n",
        "\tmodel = Sequential()\n",
        "\tmodel.add(Dropout(0.2, input_shape=(60,)))\n",
        "\tmodel.add(Dense(60, activation='relu', kernel_constraint=MaxNorm(3)))\n",
        "\tmodel.add(Dense(30, activation='relu', kernel_constraint=MaxNorm(3)))\n",
        "\tmodel.add(Dense(1, activation='sigmoid'))\n",
        "\t# Compile model\n",
        "\tsgd = SGD(learning_rate=0.1, momentum=0.9)\n",
        "\tmodel.compile(loss='binary_crossentropy', optimizer=sgd, metrics=['accuracy'])\n",
        "\treturn model\n",
        "\n",
        "estimators = []\n",
        "estimators.append(('standardize', StandardScaler()))\n",
        "estimators.append(('mlp', KerasClassifier(model=create_model, epochs=300, batch_size=16, verbose=0)))\n",
        "pipeline = Pipeline(estimators)\n",
        "kfold = StratifiedKFold(n_splits=10, shuffle=True)\n",
        "results = cross_val_score(pipeline, X, encoded_Y, cv=kfold)\n",
        "print(\"Visible: %.2f%% (%.2f%%)\" % (results.mean()*100, results.std()*100))"
      ],
      "metadata": {
        "colab": {
          "base_uri": "https://localhost:8080/"
        },
        "id": "9OCjpyZCVvPd",
        "outputId": "b643d425-df98-4c44-a447-7b9b79ab3089"
      },
      "execution_count": 51,
      "outputs": [
        {
          "output_type": "stream",
          "name": "stderr",
          "text": [
            "/usr/local/lib/python3.10/dist-packages/keras/src/layers/regularization/dropout.py:42: UserWarning: Do not pass an `input_shape`/`input_dim` argument to a layer. When using Sequential models, prefer using an `Input(shape)` object as the first layer in the model instead.\n",
            "  super().__init__(**kwargs)\n",
            "/usr/local/lib/python3.10/dist-packages/keras/src/layers/regularization/dropout.py:42: UserWarning: Do not pass an `input_shape`/`input_dim` argument to a layer. When using Sequential models, prefer using an `Input(shape)` object as the first layer in the model instead.\n",
            "  super().__init__(**kwargs)\n",
            "/usr/local/lib/python3.10/dist-packages/keras/src/layers/regularization/dropout.py:42: UserWarning: Do not pass an `input_shape`/`input_dim` argument to a layer. When using Sequential models, prefer using an `Input(shape)` object as the first layer in the model instead.\n",
            "  super().__init__(**kwargs)\n",
            "WARNING:tensorflow:5 out of the last 5 calls to <function TensorFlowTrainer.make_predict_function.<locals>.one_step_on_data_distributed at 0x7f8e5fd24700> triggered tf.function retracing. Tracing is expensive and the excessive number of tracings could be due to (1) creating @tf.function repeatedly in a loop, (2) passing tensors with different shapes, (3) passing Python objects instead of tensors. For (1), please define your @tf.function outside of the loop. For (2), @tf.function has reduce_retracing=True option that can avoid unnecessary retracing. For (3), please refer to https://www.tensorflow.org/guide/function#controlling_retracing and https://www.tensorflow.org/api_docs/python/tf/function for  more details.\n",
            "WARNING:tensorflow:6 out of the last 6 calls to <function TensorFlowTrainer.make_predict_function.<locals>.one_step_on_data_distributed at 0x7f8e5fd24700> triggered tf.function retracing. Tracing is expensive and the excessive number of tracings could be due to (1) creating @tf.function repeatedly in a loop, (2) passing tensors with different shapes, (3) passing Python objects instead of tensors. For (1), please define your @tf.function outside of the loop. For (2), @tf.function has reduce_retracing=True option that can avoid unnecessary retracing. For (3), please refer to https://www.tensorflow.org/guide/function#controlling_retracing and https://www.tensorflow.org/api_docs/python/tf/function for  more details.\n",
            "/usr/local/lib/python3.10/dist-packages/keras/src/layers/regularization/dropout.py:42: UserWarning: Do not pass an `input_shape`/`input_dim` argument to a layer. When using Sequential models, prefer using an `Input(shape)` object as the first layer in the model instead.\n",
            "  super().__init__(**kwargs)\n",
            "/usr/local/lib/python3.10/dist-packages/keras/src/layers/regularization/dropout.py:42: UserWarning: Do not pass an `input_shape`/`input_dim` argument to a layer. When using Sequential models, prefer using an `Input(shape)` object as the first layer in the model instead.\n",
            "  super().__init__(**kwargs)\n",
            "/usr/local/lib/python3.10/dist-packages/keras/src/layers/regularization/dropout.py:42: UserWarning: Do not pass an `input_shape`/`input_dim` argument to a layer. When using Sequential models, prefer using an `Input(shape)` object as the first layer in the model instead.\n",
            "  super().__init__(**kwargs)\n",
            "/usr/local/lib/python3.10/dist-packages/keras/src/layers/regularization/dropout.py:42: UserWarning: Do not pass an `input_shape`/`input_dim` argument to a layer. When using Sequential models, prefer using an `Input(shape)` object as the first layer in the model instead.\n",
            "  super().__init__(**kwargs)\n",
            "/usr/local/lib/python3.10/dist-packages/keras/src/layers/regularization/dropout.py:42: UserWarning: Do not pass an `input_shape`/`input_dim` argument to a layer. When using Sequential models, prefer using an `Input(shape)` object as the first layer in the model instead.\n",
            "  super().__init__(**kwargs)\n",
            "/usr/local/lib/python3.10/dist-packages/keras/src/layers/regularization/dropout.py:42: UserWarning: Do not pass an `input_shape`/`input_dim` argument to a layer. When using Sequential models, prefer using an `Input(shape)` object as the first layer in the model instead.\n",
            "  super().__init__(**kwargs)\n",
            "/usr/local/lib/python3.10/dist-packages/keras/src/layers/regularization/dropout.py:42: UserWarning: Do not pass an `input_shape`/`input_dim` argument to a layer. When using Sequential models, prefer using an `Input(shape)` object as the first layer in the model instead.\n",
            "  super().__init__(**kwargs)\n"
          ]
        },
        {
          "output_type": "stream",
          "name": "stdout",
          "text": [
            "Visible: 85.10% (7.33%)\n"
          ]
        }
      ]
    },
    {
      "cell_type": "markdown",
      "source": [
        "# Using Dropout on Hidden Layers"
      ],
      "metadata": {
        "id": "YN4xDnqlagIO"
      }
    },
    {
      "cell_type": "code",
      "source": [
        "# Example of Dropout on the Sonar Dataset: Hidden Layer\n",
        "from pandas import read_csv\n",
        "from tensorflow.keras.models import Sequential\n",
        "from tensorflow.keras.layers import Dense\n",
        "from tensorflow.keras.layers import Dropout\n",
        "from tensorflow.keras.constraints import MaxNorm\n",
        "from tensorflow.keras.optimizers import SGD\n",
        "from scikeras.wrappers import KerasClassifier\n",
        "from sklearn.model_selection import cross_val_score\n",
        "from sklearn.preprocessing import LabelEncoder\n",
        "from sklearn.model_selection import StratifiedKFold\n",
        "from sklearn.preprocessing import StandardScaler\n",
        "from sklearn.pipeline import Pipeline\n",
        "# load dataset\n",
        "dataframe = read_csv(\"/content/drive/MyDrive/EMT2/EMT2_8.1/8.1/Sonar.csv\", header=None)\n",
        "dataset = dataframe.values\n",
        "# split into input (X) and output (Y) variables\n",
        "X = dataset[:,0:60].astype(float)\n",
        "Y = dataset[:,60]\n",
        "# encode class values as integers\n",
        "encoder = LabelEncoder()\n",
        "encoder.fit(Y)\n",
        "encoded_Y = encoder.transform(Y)\n",
        "\n",
        "# dropout in hidden layers with weight constraint\n",
        "def create_model():\n",
        "\t# create model\n",
        "\tmodel = Sequential()\n",
        "\tmodel.add(Dense(60, input_shape=(60,), activation='relu', kernel_constraint=MaxNorm(3)))\n",
        "\tmodel.add(Dropout(0.2))\n",
        "\tmodel.add(Dense(30, activation='relu', kernel_constraint=MaxNorm(3)))\n",
        "\tmodel.add(Dropout(0.2))\n",
        "\tmodel.add(Dense(1, activation='sigmoid'))\n",
        "\t# Compile model\n",
        "\tsgd = SGD(learning_rate=0.1, momentum=0.9)\n",
        "\tmodel.compile(loss='binary_crossentropy', optimizer=sgd, metrics=['accuracy'])\n",
        "\treturn model\n",
        "\n",
        "estimators = []\n",
        "estimators.append(('standardize', StandardScaler()))\n",
        "estimators.append(('mlp', KerasClassifier(model=create_model, epochs=300, batch_size=16, verbose=0)))\n",
        "pipeline = Pipeline(estimators)\n",
        "kfold = StratifiedKFold(n_splits=10, shuffle=True)\n",
        "results = cross_val_score(pipeline, X, encoded_Y, cv=kfold)\n",
        "print(\"Hidden: %.2f%% (%.2f%%)\" % (results.mean()*100, results.std()*100))"
      ],
      "metadata": {
        "colab": {
          "base_uri": "https://localhost:8080/"
        },
        "id": "ZzvOH5V3WY_e",
        "outputId": "ffbbbdd1-ae8c-42f1-a7aa-e6540b8adef2"
      },
      "execution_count": 52,
      "outputs": [
        {
          "output_type": "stream",
          "name": "stderr",
          "text": [
            "/usr/local/lib/python3.10/dist-packages/keras/src/layers/core/dense.py:87: UserWarning: Do not pass an `input_shape`/`input_dim` argument to a layer. When using Sequential models, prefer using an `Input(shape)` object as the first layer in the model instead.\n",
            "  super().__init__(activity_regularizer=activity_regularizer, **kwargs)\n",
            "/usr/local/lib/python3.10/dist-packages/keras/src/layers/core/dense.py:87: UserWarning: Do not pass an `input_shape`/`input_dim` argument to a layer. When using Sequential models, prefer using an `Input(shape)` object as the first layer in the model instead.\n",
            "  super().__init__(activity_regularizer=activity_regularizer, **kwargs)\n",
            "/usr/local/lib/python3.10/dist-packages/keras/src/layers/core/dense.py:87: UserWarning: Do not pass an `input_shape`/`input_dim` argument to a layer. When using Sequential models, prefer using an `Input(shape)` object as the first layer in the model instead.\n",
            "  super().__init__(activity_regularizer=activity_regularizer, **kwargs)\n",
            "/usr/local/lib/python3.10/dist-packages/keras/src/layers/core/dense.py:87: UserWarning: Do not pass an `input_shape`/`input_dim` argument to a layer. When using Sequential models, prefer using an `Input(shape)` object as the first layer in the model instead.\n",
            "  super().__init__(activity_regularizer=activity_regularizer, **kwargs)\n",
            "/usr/local/lib/python3.10/dist-packages/keras/src/layers/core/dense.py:87: UserWarning: Do not pass an `input_shape`/`input_dim` argument to a layer. When using Sequential models, prefer using an `Input(shape)` object as the first layer in the model instead.\n",
            "  super().__init__(activity_regularizer=activity_regularizer, **kwargs)\n",
            "/usr/local/lib/python3.10/dist-packages/keras/src/layers/core/dense.py:87: UserWarning: Do not pass an `input_shape`/`input_dim` argument to a layer. When using Sequential models, prefer using an `Input(shape)` object as the first layer in the model instead.\n",
            "  super().__init__(activity_regularizer=activity_regularizer, **kwargs)\n",
            "/usr/local/lib/python3.10/dist-packages/keras/src/layers/core/dense.py:87: UserWarning: Do not pass an `input_shape`/`input_dim` argument to a layer. When using Sequential models, prefer using an `Input(shape)` object as the first layer in the model instead.\n",
            "  super().__init__(activity_regularizer=activity_regularizer, **kwargs)\n",
            "/usr/local/lib/python3.10/dist-packages/keras/src/layers/core/dense.py:87: UserWarning: Do not pass an `input_shape`/`input_dim` argument to a layer. When using Sequential models, prefer using an `Input(shape)` object as the first layer in the model instead.\n",
            "  super().__init__(activity_regularizer=activity_regularizer, **kwargs)\n",
            "/usr/local/lib/python3.10/dist-packages/keras/src/layers/core/dense.py:87: UserWarning: Do not pass an `input_shape`/`input_dim` argument to a layer. When using Sequential models, prefer using an `Input(shape)` object as the first layer in the model instead.\n",
            "  super().__init__(activity_regularizer=activity_regularizer, **kwargs)\n",
            "/usr/local/lib/python3.10/dist-packages/keras/src/layers/core/dense.py:87: UserWarning: Do not pass an `input_shape`/`input_dim` argument to a layer. When using Sequential models, prefer using an `Input(shape)` object as the first layer in the model instead.\n",
            "  super().__init__(activity_regularizer=activity_regularizer, **kwargs)\n"
          ]
        },
        {
          "output_type": "stream",
          "name": "stdout",
          "text": [
            "Hidden: 82.74% (6.72%)\n"
          ]
        }
      ]
    },
    {
      "cell_type": "markdown",
      "source": [
        "# Time-Based Learning Rate Schedule"
      ],
      "metadata": {
        "id": "txyLd00laiLu"
      }
    },
    {
      "cell_type": "code",
      "source": [
        "from pandas import read_csv\n",
        "from tensorflow.keras.models import Sequential\n",
        "from tensorflow.keras.layers import Dense\n",
        "from tensorflow.keras.optimizers import SGD\n",
        "from sklearn.preprocessing import LabelEncoder\n",
        "\n",
        "# load dataset\n",
        "dataframe = read_csv(\"/content/drive/MyDrive/EMT2/EMT2_8.1/8.1/Sonar.csv\", header=None)\n",
        "dataset = dataframe.values\n",
        "# split into input (X) and output (Y) variables\n",
        "X = dataset[:,0:34].astype(float)\n",
        "Y = dataset[:,34]\n",
        "# encode class values as integers\n",
        "encoder = LabelEncoder()\n",
        "encoder.fit(Y)\n",
        "Y = encoder.transform(Y)\n",
        "# create model\n",
        "model = Sequential()\n",
        "model.add(Dense(34, input_shape=(34,), activation='relu'))\n",
        "model.add(Dense(1, activation='sigmoid'))\n",
        "# Compile model\n",
        "epochs = 50\n",
        "learning_rate = 0.1\n",
        "decay_rate = learning_rate / epochs\n",
        "momentum = 0.8\n",
        "sgd = SGD(learning_rate=learning_rate, momentum=momentum, decay=decay_rate, nesterov=False)\n",
        "model.compile(loss='binary_crossentropy', optimizer=sgd, metrics=['accuracy'])\n",
        "# Fit the model\n",
        "model.fit(X, Y, validation_split=0.33, epochs=epochs, batch_size=28, verbose=2)\n"
      ],
      "metadata": {
        "colab": {
          "base_uri": "https://localhost:8080/"
        },
        "id": "knShIIEIW4d-",
        "outputId": "add39ca0-51a8-4871-a2df-634010637f86"
      },
      "execution_count": 54,
      "outputs": [
        {
          "output_type": "stream",
          "name": "stderr",
          "text": [
            "/usr/local/lib/python3.10/dist-packages/keras/src/layers/core/dense.py:87: UserWarning: Do not pass an `input_shape`/`input_dim` argument to a layer. When using Sequential models, prefer using an `Input(shape)` object as the first layer in the model instead.\n",
            "  super().__init__(activity_regularizer=activity_regularizer, **kwargs)\n",
            "/usr/local/lib/python3.10/dist-packages/keras/src/optimizers/base_optimizer.py:33: UserWarning: Argument `decay` is no longer supported and will be ignored.\n",
            "  warnings.warn(\n"
          ]
        },
        {
          "output_type": "stream",
          "name": "stdout",
          "text": [
            "Epoch 1/50\n",
            "5/5 - 2s - 323ms/step - accuracy: 0.0072 - loss: -9.4655e+12 - val_accuracy: 0.0000e+00 - val_loss: -3.8405e+16\n",
            "Epoch 2/50\n",
            "5/5 - 0s - 66ms/step - accuracy: 0.0072 - loss: -9.2513e+27 - val_accuracy: 0.0000e+00 - val_loss: -3.7003e+31\n",
            "Epoch 3/50\n",
            "5/5 - 0s - 27ms/step - accuracy: 0.0072 - loss: nan - val_accuracy: 0.0000e+00 - val_loss: nan\n",
            "Epoch 4/50\n",
            "5/5 - 0s - 57ms/step - accuracy: 0.0072 - loss: nan - val_accuracy: 0.0000e+00 - val_loss: nan\n",
            "Epoch 5/50\n",
            "5/5 - 0s - 18ms/step - accuracy: 0.0072 - loss: nan - val_accuracy: 0.0000e+00 - val_loss: nan\n",
            "Epoch 6/50\n",
            "5/5 - 0s - 31ms/step - accuracy: 0.0072 - loss: nan - val_accuracy: 0.0000e+00 - val_loss: nan\n",
            "Epoch 7/50\n",
            "5/5 - 0s - 23ms/step - accuracy: 0.0072 - loss: nan - val_accuracy: 0.0000e+00 - val_loss: nan\n",
            "Epoch 8/50\n",
            "5/5 - 0s - 25ms/step - accuracy: 0.0072 - loss: nan - val_accuracy: 0.0000e+00 - val_loss: nan\n",
            "Epoch 9/50\n",
            "5/5 - 0s - 14ms/step - accuracy: 0.0072 - loss: nan - val_accuracy: 0.0000e+00 - val_loss: nan\n",
            "Epoch 10/50\n",
            "5/5 - 0s - 28ms/step - accuracy: 0.0072 - loss: nan - val_accuracy: 0.0000e+00 - val_loss: nan\n",
            "Epoch 11/50\n",
            "5/5 - 0s - 16ms/step - accuracy: 0.0072 - loss: nan - val_accuracy: 0.0000e+00 - val_loss: nan\n",
            "Epoch 12/50\n",
            "5/5 - 0s - 24ms/step - accuracy: 0.0072 - loss: nan - val_accuracy: 0.0000e+00 - val_loss: nan\n",
            "Epoch 13/50\n",
            "5/5 - 0s - 15ms/step - accuracy: 0.0072 - loss: nan - val_accuracy: 0.0000e+00 - val_loss: nan\n",
            "Epoch 14/50\n",
            "5/5 - 0s - 27ms/step - accuracy: 0.0072 - loss: nan - val_accuracy: 0.0000e+00 - val_loss: nan\n",
            "Epoch 15/50\n",
            "5/5 - 0s - 14ms/step - accuracy: 0.0072 - loss: nan - val_accuracy: 0.0000e+00 - val_loss: nan\n",
            "Epoch 16/50\n",
            "5/5 - 0s - 18ms/step - accuracy: 0.0072 - loss: nan - val_accuracy: 0.0000e+00 - val_loss: nan\n",
            "Epoch 17/50\n",
            "5/5 - 0s - 24ms/step - accuracy: 0.0072 - loss: nan - val_accuracy: 0.0000e+00 - val_loss: nan\n",
            "Epoch 18/50\n",
            "5/5 - 0s - 28ms/step - accuracy: 0.0072 - loss: nan - val_accuracy: 0.0000e+00 - val_loss: nan\n",
            "Epoch 19/50\n",
            "5/5 - 0s - 15ms/step - accuracy: 0.0072 - loss: nan - val_accuracy: 0.0000e+00 - val_loss: nan\n",
            "Epoch 20/50\n",
            "5/5 - 0s - 28ms/step - accuracy: 0.0072 - loss: nan - val_accuracy: 0.0000e+00 - val_loss: nan\n",
            "Epoch 21/50\n",
            "5/5 - 0s - 11ms/step - accuracy: 0.0072 - loss: nan - val_accuracy: 0.0000e+00 - val_loss: nan\n",
            "Epoch 22/50\n",
            "5/5 - 0s - 12ms/step - accuracy: 0.0072 - loss: nan - val_accuracy: 0.0000e+00 - val_loss: nan\n",
            "Epoch 23/50\n",
            "5/5 - 0s - 15ms/step - accuracy: 0.0072 - loss: nan - val_accuracy: 0.0000e+00 - val_loss: nan\n",
            "Epoch 24/50\n",
            "5/5 - 0s - 15ms/step - accuracy: 0.0072 - loss: nan - val_accuracy: 0.0000e+00 - val_loss: nan\n",
            "Epoch 25/50\n",
            "5/5 - 0s - 12ms/step - accuracy: 0.0072 - loss: nan - val_accuracy: 0.0000e+00 - val_loss: nan\n",
            "Epoch 26/50\n",
            "5/5 - 0s - 17ms/step - accuracy: 0.0072 - loss: nan - val_accuracy: 0.0000e+00 - val_loss: nan\n",
            "Epoch 27/50\n",
            "5/5 - 0s - 15ms/step - accuracy: 0.0072 - loss: nan - val_accuracy: 0.0000e+00 - val_loss: nan\n",
            "Epoch 28/50\n",
            "5/5 - 0s - 29ms/step - accuracy: 0.0072 - loss: nan - val_accuracy: 0.0000e+00 - val_loss: nan\n",
            "Epoch 29/50\n",
            "5/5 - 0s - 12ms/step - accuracy: 0.0072 - loss: nan - val_accuracy: 0.0000e+00 - val_loss: nan\n",
            "Epoch 30/50\n",
            "5/5 - 0s - 13ms/step - accuracy: 0.0072 - loss: nan - val_accuracy: 0.0000e+00 - val_loss: nan\n",
            "Epoch 31/50\n",
            "5/5 - 0s - 15ms/step - accuracy: 0.0072 - loss: nan - val_accuracy: 0.0000e+00 - val_loss: nan\n",
            "Epoch 32/50\n",
            "5/5 - 0s - 12ms/step - accuracy: 0.0072 - loss: nan - val_accuracy: 0.0000e+00 - val_loss: nan\n",
            "Epoch 33/50\n",
            "5/5 - 0s - 15ms/step - accuracy: 0.0072 - loss: nan - val_accuracy: 0.0000e+00 - val_loss: nan\n",
            "Epoch 34/50\n",
            "5/5 - 0s - 12ms/step - accuracy: 0.0072 - loss: nan - val_accuracy: 0.0000e+00 - val_loss: nan\n",
            "Epoch 35/50\n",
            "5/5 - 0s - 12ms/step - accuracy: 0.0072 - loss: nan - val_accuracy: 0.0000e+00 - val_loss: nan\n",
            "Epoch 36/50\n",
            "5/5 - 0s - 13ms/step - accuracy: 0.0072 - loss: nan - val_accuracy: 0.0000e+00 - val_loss: nan\n",
            "Epoch 37/50\n",
            "5/5 - 0s - 12ms/step - accuracy: 0.0072 - loss: nan - val_accuracy: 0.0000e+00 - val_loss: nan\n",
            "Epoch 38/50\n",
            "5/5 - 0s - 15ms/step - accuracy: 0.0072 - loss: nan - val_accuracy: 0.0000e+00 - val_loss: nan\n",
            "Epoch 39/50\n",
            "5/5 - 0s - 28ms/step - accuracy: 0.0072 - loss: nan - val_accuracy: 0.0000e+00 - val_loss: nan\n",
            "Epoch 40/50\n",
            "5/5 - 0s - 30ms/step - accuracy: 0.0072 - loss: nan - val_accuracy: 0.0000e+00 - val_loss: nan\n",
            "Epoch 41/50\n",
            "5/5 - 0s - 21ms/step - accuracy: 0.0072 - loss: nan - val_accuracy: 0.0000e+00 - val_loss: nan\n",
            "Epoch 42/50\n",
            "5/5 - 0s - 12ms/step - accuracy: 0.0072 - loss: nan - val_accuracy: 0.0000e+00 - val_loss: nan\n",
            "Epoch 43/50\n",
            "5/5 - 0s - 11ms/step - accuracy: 0.0072 - loss: nan - val_accuracy: 0.0000e+00 - val_loss: nan\n",
            "Epoch 44/50\n",
            "5/5 - 0s - 11ms/step - accuracy: 0.0072 - loss: nan - val_accuracy: 0.0000e+00 - val_loss: nan\n",
            "Epoch 45/50\n",
            "5/5 - 0s - 12ms/step - accuracy: 0.0072 - loss: nan - val_accuracy: 0.0000e+00 - val_loss: nan\n",
            "Epoch 46/50\n",
            "5/5 - 0s - 12ms/step - accuracy: 0.0072 - loss: nan - val_accuracy: 0.0000e+00 - val_loss: nan\n",
            "Epoch 47/50\n",
            "5/5 - 0s - 15ms/step - accuracy: 0.0072 - loss: nan - val_accuracy: 0.0000e+00 - val_loss: nan\n",
            "Epoch 48/50\n",
            "5/5 - 0s - 15ms/step - accuracy: 0.0072 - loss: nan - val_accuracy: 0.0000e+00 - val_loss: nan\n",
            "Epoch 49/50\n",
            "5/5 - 0s - 12ms/step - accuracy: 0.0072 - loss: nan - val_accuracy: 0.0000e+00 - val_loss: nan\n",
            "Epoch 50/50\n",
            "5/5 - 0s - 17ms/step - accuracy: 0.0072 - loss: nan - val_accuracy: 0.0000e+00 - val_loss: nan\n"
          ]
        },
        {
          "output_type": "execute_result",
          "data": {
            "text/plain": [
              "<keras.src.callbacks.history.History at 0x7f8e6c9a3a60>"
            ]
          },
          "metadata": {},
          "execution_count": 54
        }
      ]
    },
    {
      "cell_type": "markdown",
      "source": [
        "# Drop-Based Learning Rate Schedule"
      ],
      "metadata": {
        "id": "mmHcIpm6akpo"
      }
    },
    {
      "cell_type": "code",
      "source": [
        "# Drop-Based Learning Rate Decay\n",
        "from pandas import read_csv\n",
        "import math\n",
        "from tensorflow.keras.models import Sequential\n",
        "from tensorflow.keras.layers import Dense\n",
        "from tensorflow.keras.optimizers import SGD\n",
        "from sklearn.preprocessing import LabelEncoder\n",
        "from tensorflow.keras.callbacks import LearningRateScheduler\n",
        "\n",
        "# learning rate schedule\n",
        "def step_decay(epoch):\n",
        "\tinitial_lrate = 0.1\n",
        "\tdrop = 0.5\n",
        "\tepochs_drop = 10.0\n",
        "\tlrate = initial_lrate * math.pow(drop, math.floor((1+epoch)/epochs_drop))\n",
        "\treturn lrate\n",
        "\n",
        "# load dataset\n",
        "dataframe = read_csv(\"/content/drive/MyDrive/EMT2/EMT2_8.1/8.1/Sonar.csv\", header=None)\n",
        "dataset = dataframe.values\n",
        "# split into input (X) and output (Y) variables\n",
        "X = dataset[:,0:34].astype(float)\n",
        "Y = dataset[:,34]\n",
        "# encode class values as integers\n",
        "encoder = LabelEncoder()\n",
        "encoder.fit(Y)\n",
        "Y = encoder.transform(Y)\n",
        "# create model\n",
        "model = Sequential()\n",
        "model.add(Dense(34, input_shape=(34,), activation='relu'))\n",
        "model.add(Dense(1, activation='sigmoid'))\n",
        "# Compile model\n",
        "sgd = SGD(learning_rate=0.0, momentum=0.9)\n",
        "model.compile(loss='binary_crossentropy', optimizer=sgd, metrics=['accuracy'])\n",
        "# learning schedule callback\n",
        "lrate = LearningRateScheduler(step_decay)\n",
        "callbacks_list = [lrate]\n",
        "# Fit the model\n",
        "model.fit(X, Y, validation_split=0.33, epochs=50, batch_size=28, callbacks=callbacks_list, verbose=2)"
      ],
      "metadata": {
        "colab": {
          "base_uri": "https://localhost:8080/"
        },
        "id": "yLwC8fGzW7TV",
        "outputId": "66246f6d-a06f-4769-8e1f-d46bd6d0381f"
      },
      "execution_count": 55,
      "outputs": [
        {
          "output_type": "stream",
          "name": "stdout",
          "text": [
            "Epoch 1/50\n"
          ]
        },
        {
          "output_type": "stream",
          "name": "stderr",
          "text": [
            "/usr/local/lib/python3.10/dist-packages/keras/src/layers/core/dense.py:87: UserWarning: Do not pass an `input_shape`/`input_dim` argument to a layer. When using Sequential models, prefer using an `Input(shape)` object as the first layer in the model instead.\n",
            "  super().__init__(activity_regularizer=activity_regularizer, **kwargs)\n"
          ]
        },
        {
          "output_type": "stream",
          "name": "stdout",
          "text": [
            "5/5 - 1s - 181ms/step - accuracy: 0.0144 - loss: -1.0199e+13 - val_accuracy: 0.0000e+00 - val_loss: -4.1598e+16 - learning_rate: 0.1000\n",
            "Epoch 2/50\n",
            "5/5 - 0s - 11ms/step - accuracy: 0.0072 - loss: -1.0235e+28 - val_accuracy: 0.0000e+00 - val_loss: -4.1168e+31 - learning_rate: 0.1000\n",
            "Epoch 3/50\n",
            "5/5 - 0s - 31ms/step - accuracy: 0.0072 - loss: nan - val_accuracy: 0.0000e+00 - val_loss: nan - learning_rate: 0.1000\n",
            "Epoch 4/50\n",
            "5/5 - 0s - 24ms/step - accuracy: 0.0072 - loss: nan - val_accuracy: 0.0000e+00 - val_loss: nan - learning_rate: 0.1000\n",
            "Epoch 5/50\n",
            "5/5 - 0s - 15ms/step - accuracy: 0.0072 - loss: nan - val_accuracy: 0.0000e+00 - val_loss: nan - learning_rate: 0.1000\n",
            "Epoch 6/50\n",
            "5/5 - 0s - 25ms/step - accuracy: 0.0072 - loss: nan - val_accuracy: 0.0000e+00 - val_loss: nan - learning_rate: 0.1000\n",
            "Epoch 7/50\n",
            "5/5 - 0s - 16ms/step - accuracy: 0.0072 - loss: nan - val_accuracy: 0.0000e+00 - val_loss: nan - learning_rate: 0.1000\n",
            "Epoch 8/50\n",
            "5/5 - 0s - 26ms/step - accuracy: 0.0072 - loss: nan - val_accuracy: 0.0000e+00 - val_loss: nan - learning_rate: 0.1000\n",
            "Epoch 9/50\n",
            "5/5 - 0s - 30ms/step - accuracy: 0.0072 - loss: nan - val_accuracy: 0.0000e+00 - val_loss: nan - learning_rate: 0.1000\n",
            "Epoch 10/50\n",
            "5/5 - 0s - 28ms/step - accuracy: 0.0072 - loss: nan - val_accuracy: 0.0000e+00 - val_loss: nan - learning_rate: 0.0500\n",
            "Epoch 11/50\n",
            "5/5 - 0s - 18ms/step - accuracy: 0.0072 - loss: nan - val_accuracy: 0.0000e+00 - val_loss: nan - learning_rate: 0.0500\n",
            "Epoch 12/50\n",
            "5/5 - 0s - 18ms/step - accuracy: 0.0072 - loss: nan - val_accuracy: 0.0000e+00 - val_loss: nan - learning_rate: 0.0500\n",
            "Epoch 13/50\n",
            "5/5 - 0s - 29ms/step - accuracy: 0.0072 - loss: nan - val_accuracy: 0.0000e+00 - val_loss: nan - learning_rate: 0.0500\n",
            "Epoch 14/50\n",
            "5/5 - 0s - 21ms/step - accuracy: 0.0072 - loss: nan - val_accuracy: 0.0000e+00 - val_loss: nan - learning_rate: 0.0500\n",
            "Epoch 15/50\n",
            "5/5 - 0s - 24ms/step - accuracy: 0.0072 - loss: nan - val_accuracy: 0.0000e+00 - val_loss: nan - learning_rate: 0.0500\n",
            "Epoch 16/50\n",
            "5/5 - 0s - 29ms/step - accuracy: 0.0072 - loss: nan - val_accuracy: 0.0000e+00 - val_loss: nan - learning_rate: 0.0500\n",
            "Epoch 17/50\n",
            "5/5 - 0s - 33ms/step - accuracy: 0.0072 - loss: nan - val_accuracy: 0.0000e+00 - val_loss: nan - learning_rate: 0.0500\n",
            "Epoch 18/50\n",
            "5/5 - 0s - 21ms/step - accuracy: 0.0072 - loss: nan - val_accuracy: 0.0000e+00 - val_loss: nan - learning_rate: 0.0500\n",
            "Epoch 19/50\n",
            "5/5 - 0s - 29ms/step - accuracy: 0.0072 - loss: nan - val_accuracy: 0.0000e+00 - val_loss: nan - learning_rate: 0.0500\n",
            "Epoch 20/50\n",
            "5/5 - 0s - 21ms/step - accuracy: 0.0072 - loss: nan - val_accuracy: 0.0000e+00 - val_loss: nan - learning_rate: 0.0250\n",
            "Epoch 21/50\n",
            "5/5 - 0s - 25ms/step - accuracy: 0.0072 - loss: nan - val_accuracy: 0.0000e+00 - val_loss: nan - learning_rate: 0.0250\n",
            "Epoch 22/50\n",
            "5/5 - 0s - 28ms/step - accuracy: 0.0072 - loss: nan - val_accuracy: 0.0000e+00 - val_loss: nan - learning_rate: 0.0250\n",
            "Epoch 23/50\n",
            "5/5 - 0s - 26ms/step - accuracy: 0.0072 - loss: nan - val_accuracy: 0.0000e+00 - val_loss: nan - learning_rate: 0.0250\n",
            "Epoch 24/50\n",
            "5/5 - 0s - 25ms/step - accuracy: 0.0072 - loss: nan - val_accuracy: 0.0000e+00 - val_loss: nan - learning_rate: 0.0250\n",
            "Epoch 25/50\n",
            "5/5 - 0s - 29ms/step - accuracy: 0.0072 - loss: nan - val_accuracy: 0.0000e+00 - val_loss: nan - learning_rate: 0.0250\n",
            "Epoch 26/50\n",
            "5/5 - 0s - 21ms/step - accuracy: 0.0072 - loss: nan - val_accuracy: 0.0000e+00 - val_loss: nan - learning_rate: 0.0250\n",
            "Epoch 27/50\n",
            "5/5 - 0s - 20ms/step - accuracy: 0.0072 - loss: nan - val_accuracy: 0.0000e+00 - val_loss: nan - learning_rate: 0.0250\n",
            "Epoch 28/50\n",
            "5/5 - 0s - 21ms/step - accuracy: 0.0072 - loss: nan - val_accuracy: 0.0000e+00 - val_loss: nan - learning_rate: 0.0250\n",
            "Epoch 29/50\n",
            "5/5 - 0s - 30ms/step - accuracy: 0.0072 - loss: nan - val_accuracy: 0.0000e+00 - val_loss: nan - learning_rate: 0.0250\n",
            "Epoch 30/50\n",
            "5/5 - 0s - 20ms/step - accuracy: 0.0072 - loss: nan - val_accuracy: 0.0000e+00 - val_loss: nan - learning_rate: 0.0125\n",
            "Epoch 31/50\n",
            "5/5 - 0s - 23ms/step - accuracy: 0.0072 - loss: nan - val_accuracy: 0.0000e+00 - val_loss: nan - learning_rate: 0.0125\n",
            "Epoch 32/50\n",
            "5/5 - 0s - 23ms/step - accuracy: 0.0072 - loss: nan - val_accuracy: 0.0000e+00 - val_loss: nan - learning_rate: 0.0125\n",
            "Epoch 33/50\n",
            "5/5 - 0s - 32ms/step - accuracy: 0.0072 - loss: nan - val_accuracy: 0.0000e+00 - val_loss: nan - learning_rate: 0.0125\n",
            "Epoch 34/50\n",
            "5/5 - 0s - 22ms/step - accuracy: 0.0072 - loss: nan - val_accuracy: 0.0000e+00 - val_loss: nan - learning_rate: 0.0125\n",
            "Epoch 35/50\n",
            "5/5 - 0s - 22ms/step - accuracy: 0.0072 - loss: nan - val_accuracy: 0.0000e+00 - val_loss: nan - learning_rate: 0.0125\n",
            "Epoch 36/50\n",
            "5/5 - 0s - 22ms/step - accuracy: 0.0072 - loss: nan - val_accuracy: 0.0000e+00 - val_loss: nan - learning_rate: 0.0125\n",
            "Epoch 37/50\n",
            "5/5 - 0s - 23ms/step - accuracy: 0.0072 - loss: nan - val_accuracy: 0.0000e+00 - val_loss: nan - learning_rate: 0.0125\n",
            "Epoch 38/50\n",
            "5/5 - 0s - 22ms/step - accuracy: 0.0072 - loss: nan - val_accuracy: 0.0000e+00 - val_loss: nan - learning_rate: 0.0125\n",
            "Epoch 39/50\n",
            "5/5 - 0s - 13ms/step - accuracy: 0.0072 - loss: nan - val_accuracy: 0.0000e+00 - val_loss: nan - learning_rate: 0.0125\n",
            "Epoch 40/50\n",
            "5/5 - 0s - 12ms/step - accuracy: 0.0072 - loss: nan - val_accuracy: 0.0000e+00 - val_loss: nan - learning_rate: 0.0063\n",
            "Epoch 41/50\n",
            "5/5 - 0s - 12ms/step - accuracy: 0.0072 - loss: nan - val_accuracy: 0.0000e+00 - val_loss: nan - learning_rate: 0.0063\n",
            "Epoch 42/50\n",
            "5/5 - 0s - 11ms/step - accuracy: 0.0072 - loss: nan - val_accuracy: 0.0000e+00 - val_loss: nan - learning_rate: 0.0063\n",
            "Epoch 43/50\n",
            "5/5 - 0s - 19ms/step - accuracy: 0.0072 - loss: nan - val_accuracy: 0.0000e+00 - val_loss: nan - learning_rate: 0.0063\n",
            "Epoch 44/50\n",
            "5/5 - 0s - 21ms/step - accuracy: 0.0072 - loss: nan - val_accuracy: 0.0000e+00 - val_loss: nan - learning_rate: 0.0063\n",
            "Epoch 45/50\n",
            "5/5 - 0s - 12ms/step - accuracy: 0.0072 - loss: nan - val_accuracy: 0.0000e+00 - val_loss: nan - learning_rate: 0.0063\n",
            "Epoch 46/50\n",
            "5/5 - 0s - 12ms/step - accuracy: 0.0072 - loss: nan - val_accuracy: 0.0000e+00 - val_loss: nan - learning_rate: 0.0063\n",
            "Epoch 47/50\n",
            "5/5 - 0s - 13ms/step - accuracy: 0.0072 - loss: nan - val_accuracy: 0.0000e+00 - val_loss: nan - learning_rate: 0.0063\n",
            "Epoch 48/50\n",
            "5/5 - 0s - 12ms/step - accuracy: 0.0072 - loss: nan - val_accuracy: 0.0000e+00 - val_loss: nan - learning_rate: 0.0063\n",
            "Epoch 49/50\n",
            "5/5 - 0s - 12ms/step - accuracy: 0.0072 - loss: nan - val_accuracy: 0.0000e+00 - val_loss: nan - learning_rate: 0.0063\n",
            "Epoch 50/50\n",
            "5/5 - 0s - 12ms/step - accuracy: 0.0072 - loss: nan - val_accuracy: 0.0000e+00 - val_loss: nan - learning_rate: 0.0031\n"
          ]
        },
        {
          "output_type": "execute_result",
          "data": {
            "text/plain": [
              "<keras.src.callbacks.history.History at 0x7f8e598eb7c0>"
            ]
          },
          "metadata": {},
          "execution_count": 55
        }
      ]
    },
    {
      "cell_type": "markdown",
      "source": [
        "# Conclusion\n",
        "\n",
        "In this activity I learned how to build neural networks using TensorFlow and keras, I also applied techniques like dropout regularization to improved the model. I saved models in H5, JSON and YAML formats and checkpointed them to preserve the best-performing versions during training."
      ],
      "metadata": {
        "id": "9NhDd6b8apq2"
      }
    }
  ]
}